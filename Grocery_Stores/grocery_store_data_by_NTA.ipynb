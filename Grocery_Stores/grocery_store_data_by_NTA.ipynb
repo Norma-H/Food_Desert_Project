{
 "cells": [
  {
   "cell_type": "code",
   "execution_count": 2,
   "metadata": {},
   "outputs": [
    {
     "name": "stdout",
     "output_type": "stream",
     "text": [
      "Populating the interactive namespace from numpy and matplotlib\n"
     ]
    }
   ],
   "source": [
    "import pandas as pd\n",
    "from pandas import Series, DataFrame\n",
    "%pylab inline"
   ]
  },
  {
   "cell_type": "code",
   "execution_count": 3,
   "metadata": {},
   "outputs": [
    {
     "data": {
      "text/plain": [
       "'1.2.3'"
      ]
     },
     "execution_count": 3,
     "metadata": {},
     "output_type": "execute_result"
    }
   ],
   "source": [
    "pd.__version__"
   ]
  },
  {
   "cell_type": "code",
   "execution_count": 4,
   "metadata": {},
   "outputs": [],
   "source": [
    "filename1 = \"Recognized_Shop_Healthy_Stores.csv\""
   ]
  },
  {
   "cell_type": "code",
   "execution_count": 13,
   "metadata": {},
   "outputs": [],
   "source": [
    "df1 = pd.read_csv(filename, usecols = 'Store Name, Street Address, Borough, Year Awarded, Council District, NTA'.split(', '))"
   ]
  },
  {
   "cell_type": "code",
   "execution_count": 25,
   "metadata": {},
   "outputs": [
    {
     "data": {
      "text/html": [
       "<div>\n",
       "<style scoped>\n",
       "    .dataframe tbody tr th:only-of-type {\n",
       "        vertical-align: middle;\n",
       "    }\n",
       "\n",
       "    .dataframe tbody tr th {\n",
       "        vertical-align: top;\n",
       "    }\n",
       "\n",
       "    .dataframe thead th {\n",
       "        text-align: right;\n",
       "    }\n",
       "</style>\n",
       "<table border=\"1\" class=\"dataframe\">\n",
       "  <thead>\n",
       "    <tr style=\"text-align: right;\">\n",
       "      <th></th>\n",
       "      <th>Store Name</th>\n",
       "      <th>Street Address</th>\n",
       "      <th>Borough</th>\n",
       "      <th>Year Awarded</th>\n",
       "      <th>Council District</th>\n",
       "      <th>NTA</th>\n",
       "    </tr>\n",
       "  </thead>\n",
       "  <tbody>\n",
       "    <tr>\n",
       "      <th>0</th>\n",
       "      <td>SIRAH 1720 LLC</td>\n",
       "      <td>535 MARCY AVE</td>\n",
       "      <td>Brooklyn</td>\n",
       "      <td>2020</td>\n",
       "      <td>36.0</td>\n",
       "      <td>Bedford</td>\n",
       "    </tr>\n",
       "    <tr>\n",
       "      <th>1</th>\n",
       "      <td>FIRST STOP GROCERY INC</td>\n",
       "      <td>643 MARCY AVE</td>\n",
       "      <td>Brooklyn</td>\n",
       "      <td>2020</td>\n",
       "      <td>36.0</td>\n",
       "      <td>Bedford</td>\n",
       "    </tr>\n",
       "    <tr>\n",
       "      <th>2</th>\n",
       "      <td>AANDE DIRECT LLC</td>\n",
       "      <td>40 LEWIS AVE</td>\n",
       "      <td>Brooklyn</td>\n",
       "      <td>2020</td>\n",
       "      <td>36.0</td>\n",
       "      <td>Stuyvesant Heights</td>\n",
       "    </tr>\n",
       "    <tr>\n",
       "      <th>3</th>\n",
       "      <td>CENTRAL ORGANIC</td>\n",
       "      <td>67 CENTRAL AVE</td>\n",
       "      <td>Brooklyn</td>\n",
       "      <td>2020</td>\n",
       "      <td>34.0</td>\n",
       "      <td>Bushwick South</td>\n",
       "    </tr>\n",
       "    <tr>\n",
       "      <th>4</th>\n",
       "      <td>194 THROOP FOOD CORP</td>\n",
       "      <td>777 PARK AVE</td>\n",
       "      <td>Brooklyn</td>\n",
       "      <td>2020</td>\n",
       "      <td>36.0</td>\n",
       "      <td>Bedford</td>\n",
       "    </tr>\n",
       "  </tbody>\n",
       "</table>\n",
       "</div>"
      ],
      "text/plain": [
       "               Store Name  Street Address   Borough  Year Awarded  \\\n",
       "0          SIRAH 1720 LLC   535 MARCY AVE  Brooklyn          2020   \n",
       "1  FIRST STOP GROCERY INC   643 MARCY AVE  Brooklyn          2020   \n",
       "2        AANDE DIRECT LLC    40 LEWIS AVE  Brooklyn          2020   \n",
       "3         CENTRAL ORGANIC  67 CENTRAL AVE  Brooklyn          2020   \n",
       "4    194 THROOP FOOD CORP    777 PARK AVE  Brooklyn          2020   \n",
       "\n",
       "   Council District                 NTA  \n",
       "0              36.0             Bedford  \n",
       "1              36.0             Bedford  \n",
       "2              36.0  Stuyvesant Heights  \n",
       "3              34.0      Bushwick South  \n",
       "4              36.0             Bedford  "
      ]
     },
     "execution_count": 25,
     "metadata": {},
     "output_type": "execute_result"
    }
   ],
   "source": [
    "df1.head()"
   ]
  },
  {
   "cell_type": "code",
   "execution_count": 34,
   "metadata": {},
   "outputs": [],
   "source": [
    "store_count_by_nta = df1.groupby(['NTA', 'Borough'])['Store Name'].count()"
   ]
  },
  {
   "cell_type": "code",
   "execution_count": 57,
   "metadata": {},
   "outputs": [
    {
     "data": {
      "text/plain": [
       "NTA                                Borough \n",
       "Brownsville                        Brooklyn    37\n",
       "Mount Hope                         Bronx       37\n",
       "East Harlem North                  New York    34\n",
       "East Harlem South                  New York    34\n",
       "East Tremont                       Bronx       23\n",
       "Central Harlem North-Polo Grounds  New York    22\n",
       "East New York                      Brooklyn    18\n",
       "Claremont-Bathgate                 Bronx       17\n",
       "Cypress Hills-City Line            Brooklyn    17\n",
       "University Heights-Morris Heights  Bronx       14\n",
       "Longwood                           Bronx       10\n",
       "Rugby-Remsen Village               Brooklyn     9\n",
       "Crotona Park East                  Bronx        9\n",
       "Belmont                            Bronx        8\n",
       "Fordham South                      Bronx        8\n",
       "East Williamsburg                  Brooklyn     7\n",
       "Bedford                            Brooklyn     7\n",
       "Bedford Park-Fordham North         Bronx        6\n",
       "Hunts Point                        Bronx        5\n",
       "East Concourse-Concourse Village   Bronx        5\n",
       "Morrisania-Melrose                 Bronx        5\n",
       "Bushwick South                     Brooklyn     5\n",
       "Melrose South-Mott Haven North     Bronx        4\n",
       "Ocean Hill                         Brooklyn     4\n",
       "Stuyvesant Heights                 Brooklyn     3\n",
       "Mott Haven-Port Morris             Bronx        2\n",
       "East New York (Pennsylvania Ave)   Brooklyn     2\n",
       "Bushwick North                     Brooklyn     1\n",
       "Name: Store Name, dtype: int64"
      ]
     },
     "execution_count": 57,
     "metadata": {},
     "output_type": "execute_result"
    }
   ],
   "source": [
    "store_count_by_nta.sort_values(ascending = False)"
   ]
  },
  {
   "cell_type": "code",
   "execution_count": 58,
   "metadata": {},
   "outputs": [],
   "source": [
    "filename2 = 'nyc2010census_tabulation_equiv.csv'\n",
    "df2 = pd.read_csv(filename2, \n",
    "                  usecols = [0, 1, 2, 3, 4, 5, 6], \n",
    "                  skiprows = 5, \n",
    "                  names = 'Borough, 2010 Census Bureau FIPS County Code, 2010 NYC Borough Code, 2010 Census Tract, PUMA, Code, NTA'.split(', '))"
   ]
  },
  {
   "cell_type": "code",
   "execution_count": 59,
   "metadata": {},
   "outputs": [
    {
     "data": {
      "text/html": [
       "<div>\n",
       "<style scoped>\n",
       "    .dataframe tbody tr th:only-of-type {\n",
       "        vertical-align: middle;\n",
       "    }\n",
       "\n",
       "    .dataframe tbody tr th {\n",
       "        vertical-align: top;\n",
       "    }\n",
       "\n",
       "    .dataframe thead th {\n",
       "        text-align: right;\n",
       "    }\n",
       "</style>\n",
       "<table border=\"1\" class=\"dataframe\">\n",
       "  <thead>\n",
       "    <tr style=\"text-align: right;\">\n",
       "      <th></th>\n",
       "      <th>Borough</th>\n",
       "      <th>2010 Census Bureau FIPS County Code</th>\n",
       "      <th>2010 NYC Borough Code</th>\n",
       "      <th>2010 Census Tract</th>\n",
       "      <th>PUMA</th>\n",
       "      <th>Code</th>\n",
       "      <th>NTA</th>\n",
       "    </tr>\n",
       "  </thead>\n",
       "  <tbody>\n",
       "    <tr>\n",
       "      <th>0</th>\n",
       "      <td>Bronx</td>\n",
       "      <td>5</td>\n",
       "      <td>2</td>\n",
       "      <td>31000</td>\n",
       "      <td>3704</td>\n",
       "      <td>BX31</td>\n",
       "      <td>Allerton-Pelham Gardens</td>\n",
       "    </tr>\n",
       "    <tr>\n",
       "      <th>1</th>\n",
       "      <td>Bronx</td>\n",
       "      <td>5</td>\n",
       "      <td>2</td>\n",
       "      <td>31200</td>\n",
       "      <td>3704</td>\n",
       "      <td>BX31</td>\n",
       "      <td>Allerton-Pelham Gardens</td>\n",
       "    </tr>\n",
       "    <tr>\n",
       "      <th>2</th>\n",
       "      <td>Bronx</td>\n",
       "      <td>5</td>\n",
       "      <td>2</td>\n",
       "      <td>31400</td>\n",
       "      <td>3704</td>\n",
       "      <td>BX31</td>\n",
       "      <td>Allerton-Pelham Gardens</td>\n",
       "    </tr>\n",
       "    <tr>\n",
       "      <th>3</th>\n",
       "      <td>Bronx</td>\n",
       "      <td>5</td>\n",
       "      <td>2</td>\n",
       "      <td>31600</td>\n",
       "      <td>3704</td>\n",
       "      <td>BX31</td>\n",
       "      <td>Allerton-Pelham Gardens</td>\n",
       "    </tr>\n",
       "    <tr>\n",
       "      <th>4</th>\n",
       "      <td>Bronx</td>\n",
       "      <td>5</td>\n",
       "      <td>2</td>\n",
       "      <td>31800</td>\n",
       "      <td>3704</td>\n",
       "      <td>BX31</td>\n",
       "      <td>Allerton-Pelham Gardens</td>\n",
       "    </tr>\n",
       "    <tr>\n",
       "      <th>...</th>\n",
       "      <td>...</td>\n",
       "      <td>...</td>\n",
       "      <td>...</td>\n",
       "      <td>...</td>\n",
       "      <td>...</td>\n",
       "      <td>...</td>\n",
       "      <td>...</td>\n",
       "    </tr>\n",
       "    <tr>\n",
       "      <th>2163</th>\n",
       "      <td>Staten Island</td>\n",
       "      <td>85</td>\n",
       "      <td>5</td>\n",
       "      <td>16901</td>\n",
       "      <td>3903</td>\n",
       "      <td>SI07</td>\n",
       "      <td>Westerleigh</td>\n",
       "    </tr>\n",
       "    <tr>\n",
       "      <th>2164</th>\n",
       "      <td>Staten Island</td>\n",
       "      <td>85</td>\n",
       "      <td>5</td>\n",
       "      <td>18701</td>\n",
       "      <td>3903</td>\n",
       "      <td>SI07</td>\n",
       "      <td>Westerleigh</td>\n",
       "    </tr>\n",
       "    <tr>\n",
       "      <th>2165</th>\n",
       "      <td>Staten Island</td>\n",
       "      <td>85</td>\n",
       "      <td>5</td>\n",
       "      <td>18901</td>\n",
       "      <td>3903</td>\n",
       "      <td>SI07</td>\n",
       "      <td>Westerleigh</td>\n",
       "    </tr>\n",
       "    <tr>\n",
       "      <th>2166</th>\n",
       "      <td>Staten Island</td>\n",
       "      <td>85</td>\n",
       "      <td>5</td>\n",
       "      <td>19700</td>\n",
       "      <td>3903</td>\n",
       "      <td>SI07</td>\n",
       "      <td>Westerleigh</td>\n",
       "    </tr>\n",
       "    <tr>\n",
       "      <th>2167</th>\n",
       "      <td>Staten Island</td>\n",
       "      <td>85</td>\n",
       "      <td>5</td>\n",
       "      <td>20100</td>\n",
       "      <td>3903</td>\n",
       "      <td>SI07</td>\n",
       "      <td>Westerleigh</td>\n",
       "    </tr>\n",
       "  </tbody>\n",
       "</table>\n",
       "<p>2168 rows × 7 columns</p>\n",
       "</div>"
      ],
      "text/plain": [
       "            Borough  2010 Census Bureau FIPS County Code  \\\n",
       "0             Bronx                                    5   \n",
       "1             Bronx                                    5   \n",
       "2             Bronx                                    5   \n",
       "3             Bronx                                    5   \n",
       "4             Bronx                                    5   \n",
       "...             ...                                  ...   \n",
       "2163  Staten Island                                   85   \n",
       "2164  Staten Island                                   85   \n",
       "2165  Staten Island                                   85   \n",
       "2166  Staten Island                                   85   \n",
       "2167  Staten Island                                   85   \n",
       "\n",
       "      2010 NYC Borough Code  2010 Census Tract  PUMA  Code  \\\n",
       "0                         2              31000  3704  BX31   \n",
       "1                         2              31200  3704  BX31   \n",
       "2                         2              31400  3704  BX31   \n",
       "3                         2              31600  3704  BX31   \n",
       "4                         2              31800  3704  BX31   \n",
       "...                     ...                ...   ...   ...   \n",
       "2163                      5              16901  3903  SI07   \n",
       "2164                      5              18701  3903  SI07   \n",
       "2165                      5              18901  3903  SI07   \n",
       "2166                      5              19700  3903  SI07   \n",
       "2167                      5              20100  3903  SI07   \n",
       "\n",
       "                          NTA  \n",
       "0     Allerton-Pelham Gardens  \n",
       "1     Allerton-Pelham Gardens  \n",
       "2     Allerton-Pelham Gardens  \n",
       "3     Allerton-Pelham Gardens  \n",
       "4     Allerton-Pelham Gardens  \n",
       "...                       ...  \n",
       "2163              Westerleigh  \n",
       "2164              Westerleigh  \n",
       "2165              Westerleigh  \n",
       "2166              Westerleigh  \n",
       "2167              Westerleigh  \n",
       "\n",
       "[2168 rows x 7 columns]"
      ]
     },
     "execution_count": 59,
     "metadata": {},
     "output_type": "execute_result"
    }
   ],
   "source": [
    "df2"
   ]
  },
  {
   "cell_type": "code",
   "execution_count": 60,
   "metadata": {
    "scrolled": true
   },
   "outputs": [
    {
     "data": {
      "text/plain": [
       "NTA\n",
       "Airport                                        2\n",
       "Allerton-Pelham Gardens                       11\n",
       "Annadale-Huguenot-Prince's Bay-Eltingville     6\n",
       "Arden Heights                                  4\n",
       "Astoria                                       23\n",
       "                                              ..\n",
       "park-cemetery-etc-Bronx                        7\n",
       "park-cemetery-etc-Brooklyn                    11\n",
       "park-cemetery-etc-Manhattan                    7\n",
       "park-cemetery-etc-Queens                      16\n",
       "park-cemetery-etc-Staten Island                2\n",
       "Name: Borough, Length: 195, dtype: int64"
      ]
     },
     "execution_count": 60,
     "metadata": {},
     "output_type": "execute_result"
    }
   ],
   "source": [
    "df2.groupby('NTA')['Borough'].count()"
   ]
  },
  {
   "cell_type": "code",
   "execution_count": 71,
   "metadata": {},
   "outputs": [],
   "source": [
    "combined = pd.merge(df1, df2, \n",
    "                    how = 'outer', on = ['NTA', 'Borough'])"
   ]
  },
  {
   "cell_type": "code",
   "execution_count": 72,
   "metadata": {},
   "outputs": [
    {
     "data": {
      "text/html": [
       "<div>\n",
       "<style scoped>\n",
       "    .dataframe tbody tr th:only-of-type {\n",
       "        vertical-align: middle;\n",
       "    }\n",
       "\n",
       "    .dataframe tbody tr th {\n",
       "        vertical-align: top;\n",
       "    }\n",
       "\n",
       "    .dataframe thead th {\n",
       "        text-align: right;\n",
       "    }\n",
       "</style>\n",
       "<table border=\"1\" class=\"dataframe\">\n",
       "  <thead>\n",
       "    <tr style=\"text-align: right;\">\n",
       "      <th></th>\n",
       "      <th>Store Name</th>\n",
       "      <th>Street Address</th>\n",
       "      <th>Borough</th>\n",
       "      <th>Year Awarded</th>\n",
       "      <th>Council District</th>\n",
       "      <th>NTA</th>\n",
       "      <th>2010 Census Bureau FIPS County Code</th>\n",
       "      <th>2010 NYC Borough Code</th>\n",
       "      <th>2010 Census Tract</th>\n",
       "      <th>PUMA</th>\n",
       "      <th>Code</th>\n",
       "    </tr>\n",
       "  </thead>\n",
       "  <tbody>\n",
       "    <tr>\n",
       "      <th>0</th>\n",
       "      <td>SIRAH 1720 LLC</td>\n",
       "      <td>535 MARCY AVE</td>\n",
       "      <td>Brooklyn</td>\n",
       "      <td>2020.0</td>\n",
       "      <td>36.0</td>\n",
       "      <td>Bedford</td>\n",
       "      <td>47.0</td>\n",
       "      <td>3.0</td>\n",
       "      <td>23300.0</td>\n",
       "      <td>4003.0</td>\n",
       "      <td>BK75</td>\n",
       "    </tr>\n",
       "    <tr>\n",
       "      <th>1</th>\n",
       "      <td>SIRAH 1720 LLC</td>\n",
       "      <td>535 MARCY AVE</td>\n",
       "      <td>Brooklyn</td>\n",
       "      <td>2020.0</td>\n",
       "      <td>36.0</td>\n",
       "      <td>Bedford</td>\n",
       "      <td>47.0</td>\n",
       "      <td>3.0</td>\n",
       "      <td>24100.0</td>\n",
       "      <td>4003.0</td>\n",
       "      <td>BK75</td>\n",
       "    </tr>\n",
       "    <tr>\n",
       "      <th>2</th>\n",
       "      <td>SIRAH 1720 LLC</td>\n",
       "      <td>535 MARCY AVE</td>\n",
       "      <td>Brooklyn</td>\n",
       "      <td>2020.0</td>\n",
       "      <td>36.0</td>\n",
       "      <td>Bedford</td>\n",
       "      <td>47.0</td>\n",
       "      <td>3.0</td>\n",
       "      <td>24300.0</td>\n",
       "      <td>4003.0</td>\n",
       "      <td>BK75</td>\n",
       "    </tr>\n",
       "    <tr>\n",
       "      <th>3</th>\n",
       "      <td>SIRAH 1720 LLC</td>\n",
       "      <td>535 MARCY AVE</td>\n",
       "      <td>Brooklyn</td>\n",
       "      <td>2020.0</td>\n",
       "      <td>36.0</td>\n",
       "      <td>Bedford</td>\n",
       "      <td>47.0</td>\n",
       "      <td>3.0</td>\n",
       "      <td>24500.0</td>\n",
       "      <td>4003.0</td>\n",
       "      <td>BK75</td>\n",
       "    </tr>\n",
       "    <tr>\n",
       "      <th>4</th>\n",
       "      <td>SIRAH 1720 LLC</td>\n",
       "      <td>535 MARCY AVE</td>\n",
       "      <td>Brooklyn</td>\n",
       "      <td>2020.0</td>\n",
       "      <td>36.0</td>\n",
       "      <td>Bedford</td>\n",
       "      <td>47.0</td>\n",
       "      <td>3.0</td>\n",
       "      <td>24900.0</td>\n",
       "      <td>4003.0</td>\n",
       "      <td>BK75</td>\n",
       "    </tr>\n",
       "  </tbody>\n",
       "</table>\n",
       "</div>"
      ],
      "text/plain": [
       "       Store Name Street Address   Borough  Year Awarded  Council District  \\\n",
       "0  SIRAH 1720 LLC  535 MARCY AVE  Brooklyn        2020.0              36.0   \n",
       "1  SIRAH 1720 LLC  535 MARCY AVE  Brooklyn        2020.0              36.0   \n",
       "2  SIRAH 1720 LLC  535 MARCY AVE  Brooklyn        2020.0              36.0   \n",
       "3  SIRAH 1720 LLC  535 MARCY AVE  Brooklyn        2020.0              36.0   \n",
       "4  SIRAH 1720 LLC  535 MARCY AVE  Brooklyn        2020.0              36.0   \n",
       "\n",
       "       NTA  2010 Census Bureau FIPS County Code  2010 NYC Borough Code  \\\n",
       "0  Bedford                                 47.0                    3.0   \n",
       "1  Bedford                                 47.0                    3.0   \n",
       "2  Bedford                                 47.0                    3.0   \n",
       "3  Bedford                                 47.0                    3.0   \n",
       "4  Bedford                                 47.0                    3.0   \n",
       "\n",
       "   2010 Census Tract    PUMA  Code  \n",
       "0            23300.0  4003.0  BK75  \n",
       "1            24100.0  4003.0  BK75  \n",
       "2            24300.0  4003.0  BK75  \n",
       "3            24500.0  4003.0  BK75  \n",
       "4            24900.0  4003.0  BK75  "
      ]
     },
     "execution_count": 72,
     "metadata": {},
     "output_type": "execute_result"
    }
   ],
   "source": [
    "combined.head()"
   ]
  },
  {
   "cell_type": "code",
   "execution_count": 79,
   "metadata": {},
   "outputs": [],
   "source": [
    "combined = combined[combined['Borough'] != 'Queens']"
   ]
  },
  {
   "cell_type": "code",
   "execution_count": 85,
   "metadata": {},
   "outputs": [],
   "source": [
    "combined = combined[combined['Store Name'].notnull()]"
   ]
  },
  {
   "cell_type": "code",
   "execution_count": 86,
   "metadata": {},
   "outputs": [],
   "source": [
    "combined.to_csv('combined_by_NTA.csv')"
   ]
  },
  {
   "cell_type": "code",
   "execution_count": 87,
   "metadata": {},
   "outputs": [],
   "source": [
    "!open 'combined_by_NTA.csv'"
   ]
  },
  {
   "cell_type": "code",
   "execution_count": null,
   "metadata": {},
   "outputs": [],
   "source": []
  }
 ],
 "metadata": {
  "kernelspec": {
   "display_name": "Python 3",
   "language": "python",
   "name": "python3"
  },
  "language_info": {
   "codemirror_mode": {
    "name": "ipython",
    "version": 3
   },
   "file_extension": ".py",
   "mimetype": "text/x-python",
   "name": "python",
   "nbconvert_exporter": "python",
   "pygments_lexer": "ipython3",
   "version": "3.8.2"
  }
 },
 "nbformat": 4,
 "nbformat_minor": 4
}
